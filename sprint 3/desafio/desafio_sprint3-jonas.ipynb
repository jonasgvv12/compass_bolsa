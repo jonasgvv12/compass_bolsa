{
 "cells": [
  {
   "cell_type": "code",
   "execution_count": null,
   "metadata": {},
   "outputs": [],
   "source": [
    "## tarefa 1 desafio\n",
    "import pandas as pd\n",
    "\n",
    "df = pd.read_csv('googleplaystore.csv')\n",
    "\n",
    "df.drop_duplicates(inplace=True)\n",
    "\n",
    "df.to_csv('dados_limpos.csv', index=False)\n"
   ]
  },
  {
   "cell_type": "code",
   "execution_count": null,
   "metadata": {},
   "outputs": [],
   "source": [
    "## tarefa 2 desafio\n",
    "import pandas as pd\n",
    "import matplotlib.pyplot as plotlib\n",
    "\n",
    "df = pd.read_csv('dados_limpos.csv')\n",
    "\n",
    "dfarrumado = df.sort_values(by = ' Installs', ascending=False)\n",
    "top5_apps = dfarrumado.head(5)\n",
    "\n",
    "plotlib.figure(figsize= (22,8))\n",
    "\n",
    "plotlib.bar(range(5), top5_apps[' Installs'])\n",
    "\n",
    "plotlib.xticks(range(5), top5_apps['App'])\n",
    "\n",
    "plotlib.title('Top 5 apps com maior número de instalações')\n",
    "\n",
    "plotlib.xlabel('Nome do app')\n",
    "\n",
    "plotlib.ylabel('Nº de instalações')\n",
    "\n",
    "plotlib.show()\n"
   ]
  },
  {
   "cell_type": "code",
   "execution_count": null,
   "metadata": {},
   "outputs": [],
   "source": [
    "## Tarefa 3 desafio\n",
    "\n",
    "import pandas as pd\n",
    "import matplotlib.pyplot as plotlib\n",
    "\n",
    "df = pd.read_csv('dados_limpos.csv')\n",
    "\n",
    "\n",
    "contador = df[' Category'].value_counts()\n",
    "\n",
    "\n",
    "plotlib.figure(figsize=(16,16))\n",
    "plotlib.pie(contador, labels=contador.index, autopct='%1.1f%%')\n",
    "plotlib.title('Categorias de acordo com sua frequência')\n",
    "plotlib.show()\n"
   ]
  },
  {
   "cell_type": "code",
   "execution_count": null,
   "metadata": {},
   "outputs": [],
   "source": [
    "## tarefa 4 desafio\n",
    "\n",
    "import pandas as pd\n",
    "\n",
    "app_mais_caro = df.loc[df[' Price'].idxmax()]\n",
    "\n",
    "print(app_mais_caro)"
   ]
  },
  {
   "cell_type": "code",
   "execution_count": null,
   "metadata": {},
   "outputs": [],
   "source": [
    "## tarefa 5 Desafio\n",
    "\n",
    "import pandas as pd \n",
    "import matplotlib.pyplot as plotlib\n",
    "\n",
    "df = pd.read_csv('dados_limpos.csv')\n",
    "\n",
    "contagem_mais18 = len(df[df[' Content Rating'] == 'Mature 17+'])\n",
    "print(contagem_mais18)"
   ]
  },
  {
   "cell_type": "code",
   "execution_count": null,
   "metadata": {},
   "outputs": [],
   "source": [
    "## Tarefa 6 desafio \n",
    "\n",
    "import pandas as pd \n",
    "import matplotlib.pyplot as plotlib\n",
    "\n",
    "df = pd.read_csv('dados_limpos.csv')\n",
    "\n",
    "df[' Reviews'] = pd.to_numeric(df[' Reviews'], errors = 'coerce')\n",
    "\n",
    "dados_agrupados = df.groupby('App')[' Reviews'].sum().reset_index()\n",
    "\n",
    "top10_apps = dados_agrupados.nlargest(10, ' Reviews')\n",
    "print(top10_apps)"
   ]
  },
  {
   "cell_type": "code",
   "execution_count": null,
   "metadata": {},
   "outputs": [],
   "source": [
    "## tarefa 7 (formato de valor)\n",
    "\n",
    "import pandas as pd\n",
    "\n",
    "df = pd.read_csv('dados_limpos.csv')\n",
    "\n",
    "contador_genero =  df['Genres'].value_counts()\n",
    "mais_frequente = contador_genero.index[0]\n",
    "frequencia = contador_genero.iloc[0]\n",
    "\n",
    "print(f\"o gênero mais frequente é: {mais_frequente}, ele aparece {frequencia} vezes\")"
   ]
  },
  {
   "cell_type": "code",
   "execution_count": null,
   "metadata": {},
   "outputs": [],
   "source": [
    "## tarefa 7 (formato de lista)\n",
    "\n",
    "import pandas as pd\n",
    "import matplotlib.pyplot as plotlib\n",
    "\n",
    "contagem_categoria = df[' Category'].value_counts().head(10)\n",
    "\n",
    "for i, (contagem, categoria) in enumerate(contagem_categoria.items()):\n",
    "    print(f\"{i+1}. {categoria} apps de {contagem} \")\n",
    "\n"
   ]
  },
  {
   "cell_type": "code",
   "execution_count": null,
   "metadata": {},
   "outputs": [],
   "source": [
    "## tarefa 8 (gráfico de dispersão)\n",
    "\n",
    "import matplotlib.pyplot as plotlib\n",
    "import pandas as pd\n",
    "\n",
    "\n",
    "plotlib.scatter(df[' Rating'], df[' Price'])\n",
    "plotlib.xlabel('Avaliação')\n",
    "plotlib.ylabel('Preço ($)')\n",
    "plotlib.title('Preço do app vs Avaliação')\n",
    "plotlib.show()"
   ]
  },
  {
   "cell_type": "markdown",
   "metadata": {},
   "source": [
    "## **DOCUMENTAÇÃO** \n",
    "\n",
    "1. Tarefa 1: Na primeira tarefa, utilizei as funcionalidades da biblioteca pandas, como \"pd.read_csv\" que lê o dataset inteiro, \"df.drop_duplicates\" que percorre o dataset e elimina qualquer duplicata, e por fim \"df.to_csv\" que cria um novo arquivo .csv contendo o dataset sem as duplicatas.\n",
    "\n",
    "2. Tarefa 2: Na segunda tarefa, era necessário criar um gráfico de barras contendo os 5 aplicativos com o maior número de instalações do dataset. Utilizando pandas, atribui: \"dfarrumado = df.sort_values(by = ' Installs', ascending=False)\" o sort_values vai procurar valores contidos na coluna ' Installs' em \"ascending = False\", ou seja, de maneira decrescente, do maior ao menor. Depois, atribui a váriavel \"top5_apps\" o valor \"dfarrumado.head(5)\", que insere dentro daquela váriavel os 5 apps com o maior número de instalações. Com a biblioteca matplotlib, criei o gráfico, mas, primeiramente, defini o tamanho: um \"figsize\" de largura de 22 polegadas e altura de 8 polegadas, \"plotlib.bar\" e \"plotlib.xticks\" vão formar as colunas, contendo, respectivamente, as 5 barras do gráfico, e atribuindo o nome dos apps para cada uma daquelas 5 barras. O restante, \"xlabel, ylabel e title\" são utilizados para descrever o gráfico, o título, nome dos apps e o nº de instalações.\n",
    "\n",
    "3. Tarefa 3: Na terceira tarefa, era necessário criar um gráfico de pizza para representar a frequência em que as categorias dos apps aparecem dentro do dataset. Para isso, criei uma váriavel contador, para fazer a contagem de quantas vezes a mesma categoria se repetia. Após isso, já era hora de criar o gráfico, mas também era necessário transformar os valores que o contador armazenou como int em porcentagens, e com essa linha de código \"plotlib.pie(contador, labels=contador.index, autopct='%1.1f%%')\" que cria a *pie* (gráfico de pizza em inglês) contendo os valores do contador, transformados em pct com o \"autopct\". \n",
    "\n",
    "4. Tarefa 4: Na quarta tarefa, era apenas necessário encontrar o aplicativo mais caro dentro do dataset. Com a biblioteca pandas, fica muito simples. Criei uma váriavel \"app_mais_caro = df.loc[df[' Price'].idxmax()]\" que, dentro dela irá armazenar o valor do app com o maior preço, fazendo uma pequena pesquisa dentro do dataset na coluna ' Price', e buscando o valor máximo com o idxmax().\n",
    "\n",
    "5. Tarefa 5: Na quinta tarefa, era necessário exibir a quantidade de apps com a classificação 'Mature 17+'. Utilizando len(), que é uma função já integrada do próprio Python, ela faz a contagem dos elementos dentro de uma lista, tupla, etc... \"contagem_mais18 = len(df[df[' Content Rating'] == 'Mature 17+'])\" \n",
    "\n",
    "6. Tarefa 6: Na tarefa 6, era necessário mostrar os top 10 apps baseados em número de reviews, além de mostrar o nº de reviews propriamente dito. Para fazer isso, transformei os valores de 'Rating' em numeric, e utilizei uma função do Pandas, o groupby, além de somar a quantidade de reviews dentro de cada app com o sum. \"dados_agrupados = df.groupby('App')[' Reviews'].sum().reset_index()\". Após isso, inseri os valores de dados_agrupados dentro de outra váriavel \"top10_apps\" que vai buscar o *nlargest* (os maiores) 10 valores.\n",
    "\n",
    "7. Tarefa 7: Na sétima tarefa, era necessário criar mais 2 cálculos sobre o dataset, um em formato de lista e outro em formato de valor. Para o cálculo em formato de valor, utilizando a biblioteca Pandas calculei qual o gênero mais frequente no dataset. \"contador_genero =  df['Genres'].value_counts()\", \"mais_frequente = contador_genero.index[0]\", \"frequencia = contador_genero.iloc[0]\" o contador acessa 'Genres' no df (*dataframe*) e conta a frequência de cada valor único naquela coluna. \"mais_frequente\" acessa o index 0 do contador, ou seja, o maior, a váriavel frequencia acessa o mesmo valor utilizando iloc (*integer based location*), acessando os dados baseados em um nº inteiro.\n",
    "\n",
    "8. Tarefa 8: Na última tarefa, criei apenas uma outra forma de visualização em gráfico, o de dispersão. Com a biblioteca matplotlib, criei um *scatter* graph, \"plotlib.scatter(df[' Rating'], df[' Price'])\" que acessa as colunas de Rating e Price, criando uma relação entre avaliação do app e seu preço. \n",
    "\n"
   ]
  }
 ],
 "metadata": {
  "kernelspec": {
   "display_name": "Python 3",
   "language": "python",
   "name": "python3"
  },
  "language_info": {
   "codemirror_mode": {
    "name": "ipython",
    "version": 3
   },
   "file_extension": ".py",
   "mimetype": "text/x-python",
   "name": "python",
   "nbconvert_exporter": "python",
   "pygments_lexer": "ipython3",
   "version": "3.12.4"
  }
 },
 "nbformat": 4,
 "nbformat_minor": 2
}
